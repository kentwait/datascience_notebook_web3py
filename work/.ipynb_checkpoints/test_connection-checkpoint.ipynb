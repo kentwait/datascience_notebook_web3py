{
 "cells": [
  {
   "cell_type": "code",
   "execution_count": 1,
   "id": "b870190d-00cb-4ed4-a8b2-885d98ae2b04",
   "metadata": {},
   "outputs": [],
   "source": [
    "import web3"
   ]
  },
  {
   "cell_type": "code",
   "execution_count": 3,
   "id": "0ec71566-a1f4-4ad1-98dd-9a27d36c1fe6",
   "metadata": {},
   "outputs": [
    {
     "name": "stdout",
     "output_type": "stream",
     "text": [
      "Connected? True\n",
      "Latest block: 14895195\n"
     ]
    }
   ],
   "source": [
    "from web3 import Web3\n",
    "\n",
    "infura_url = 'https://main-light.eth.linkpool.io'\n",
    "web3 = Web3(Web3.HTTPProvider(infura_url))\n",
    "\n",
    "is_connected = web3.isConnected()\n",
    "block_num = web3.eth.blockNumber\n",
    "\n",
    "print(f'Connected: {is_connected}')\n",
    "print(f'Latest block: {block_num}')"
   ]
  },
  {
   "cell_type": "code",
   "execution_count": null,
   "id": "bd33f1a3-5853-42cf-887e-5a74d27ec641",
   "metadata": {},
   "outputs": [],
   "source": []
  }
 ],
 "metadata": {
  "kernelspec": {
   "display_name": "Python 3 (ipykernel)",
   "language": "python",
   "name": "python3"
  },
  "language_info": {
   "codemirror_mode": {
    "name": "ipython",
    "version": 3
   },
   "file_extension": ".py",
   "mimetype": "text/x-python",
   "name": "python",
   "nbconvert_exporter": "python",
   "pygments_lexer": "ipython3",
   "version": "3.10.4"
  }
 },
 "nbformat": 4,
 "nbformat_minor": 5
}
